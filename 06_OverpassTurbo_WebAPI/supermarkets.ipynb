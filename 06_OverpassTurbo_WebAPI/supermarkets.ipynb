{
 "cells": [
  {
   "attachments": {},
   "cell_type": "markdown",
   "id": "7e6d1072",
   "metadata": {},
   "source": [
    "# Getting all available Swiss supermarkets using the overpass Web API"
   ]
  },
  {
   "attachments": {},
   "cell_type": "markdown",
   "id": "607822a3",
   "metadata": {},
   "source": [
    "## Overpass turbo query to get all available supermarkets in Switzerland"
   ]
  },
  {
   "cell_type": "code",
   "execution_count": null,
   "id": "fe09d40b",
   "metadata": {},
   "outputs": [],
   "source": [
    "from pandas import json_normalize\n",
    "import requests\n",
    "import json\n",
    "import folium\n",
    "\n",
    "# Overpass API URL\n",
    "url = 'http://overpass-api.de/api/interpreter'\n",
    "\n",
    "# Overpass turbo query\n",
    "query = f\"\"\"\n",
    "        [out:json];\n",
    "        area[\"ISO3166-1\"=\"CH\"][admin_level=2];\n",
    "        node [\"shop\"=\"supermarket\"](area);\n",
    "        out;\"\"\"\n",
    "\n",
    "# Web API request\n",
    "r = requests.get(url, params={'data': query})\n",
    "data = r.json()['elements']\n",
    "\n",
    "# Save data to file\n",
    "with open('supermarkets.json', 'w') as json_file:\n",
    "    json.dump(data, json_file)\n",
    "\n",
    "# Store data in data frame\n",
    "df = json_normalize(data)\n",
    "df.head(5)"
   ]
  },
  {
   "cell_type": "markdown",
   "id": "a7ea9b1e",
   "metadata": {},
   "source": [
    "## Plot supermarkets on map"
   ]
  },
  {
   "cell_type": "code",
   "execution_count": null,
   "id": "49e8cc9c",
   "metadata": {
    "scrolled": true
   },
   "outputs": [],
   "source": [
    "# Subset of supermarkets by brand\n",
    "locations = df[[\"lat\", \"lon\", \"tags.brand\", \"tags.shop\"]].loc[df[\"tags.brand\"].isin(['Coop', 'Migros'])]\n",
    "print(locations.head(5))\n",
    "\n",
    "# Subsets\n",
    "locations_coop = df[[\"lat\", \"lon\", \"tags.brand\",\n",
    "                     \"tags.shop\"]].loc[df[\"tags.brand\"].isin(['Coop'])]\n",
    "locations_migros = df[[\"lat\", \"lon\", \"tags.brand\",\n",
    "                       \"tags.shop\"]].loc[df[\"tags.brand\"].isin(['Migros'])]\n",
    "\n",
    "# Marker symbols\n",
    "url_01 = 'https://raw.githubusercontent.com/pointhi/leaflet-color-markers/master/img/marker-icon-green.png'\n",
    "url_02 = 'https://raw.githubusercontent.com/pointhi/leaflet-color-markers/master/img/marker-icon-orange.png'\n",
    "\n",
    "# Create map\n",
    "map = folium.Map(location=[locations.lat.mean(),\n",
    "                           locations.lon.mean()],\n",
    "                 zoom_start=8,\n",
    "                 control_scale=True)\n",
    "\n",
    "# Add lat/lon of Coop supermarkets\n",
    "for i in range(0, len(locations_coop)):\n",
    "    folium.Marker(location=(locations_coop.iloc[i]['lat'],\n",
    "                            locations_coop.iloc[i]['lon']),\n",
    "                  popup=locations_coop.iloc[i]['tags.brand'],\n",
    "                  icon=folium.features.CustomIcon(url_01, icon_size=(16, 28))).add_to(map)\n",
    "    \n",
    "# Add lat/lon of Migros supermarkets\n",
    "for i in range(0, len(locations_migros)):\n",
    "    folium.Marker(location=(locations_migros.iloc[i]['lat'],\n",
    "                            locations_migros.iloc[i]['lon']),\n",
    "                  popup=locations_migros.iloc[i]['tags.brand'],\n",
    "                  icon=folium.features.CustomIcon(url_02, icon_size=(16, 28))).add_to(map)\n",
    "\n",
    "# Plot map\n",
    "map"
   ]
  },
  {
   "attachments": {},
   "cell_type": "markdown",
   "id": "1bd2fad1",
   "metadata": {},
   "source": [
    "### Jupyter notebook --footer info-- (please always provide this at the end of each notebook)"
   ]
  },
  {
   "cell_type": "code",
   "execution_count": null,
   "id": "b783a72e",
   "metadata": {},
   "outputs": [],
   "source": [
    "import os\n",
    "import platform\n",
    "import socket\n",
    "from platform import python_version\n",
    "from datetime import datetime\n",
    "\n",
    "print('-----------------------------------')\n",
    "print(os.name.upper())\n",
    "print(platform.system(), '|', platform.release())\n",
    "print('Datetime:', datetime.now().strftime(\"%Y-%m-%d %H:%M:%S\"))\n",
    "print('Python Version:', python_version())\n",
    "print('-----------------------------------')"
   ]
  }
 ],
 "metadata": {
  "kernelspec": {
   "display_name": "dsenv",
   "language": "python",
   "name": "python3"
  },
  "language_info": {
   "codemirror_mode": {
    "name": "ipython",
    "version": 3
   },
   "file_extension": ".py",
   "mimetype": "text/x-python",
   "name": "python",
   "nbconvert_exporter": "python",
   "pygments_lexer": "ipython3",
   "version": "3.12.4"
  }
 },
 "nbformat": 4,
 "nbformat_minor": 5
}
