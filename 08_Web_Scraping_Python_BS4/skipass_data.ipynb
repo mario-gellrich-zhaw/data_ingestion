{
 "cells": [
  {
   "cell_type": "markdown",
   "metadata": {},
   "source": [
    "# Web Scraper Skidata\n",
    "\n",
    "Data from: https://www.skiinfo.de/schweiz/skipaesse"
   ]
  },
  {
   "cell_type": "markdown",
   "metadata": {},
   "source": [
    "## Libraries and settings"
   ]
  },
  {
   "cell_type": "code",
   "execution_count": null,
   "metadata": {},
   "outputs": [],
   "source": [
    "import requests\n",
    "from bs4 import BeautifulSoup\n",
    "import pandas as pd\n",
    "import matplotlib.pyplot as plt\n",
    "\n",
    "# Define settings for graphics\n",
    "plt.style.use('dark_background')"
   ]
  },
  {
   "cell_type": "markdown",
   "metadata": {},
   "source": [
    "## Web Scraper Skidata"
   ]
  },
  {
   "cell_type": "code",
   "execution_count": 2,
   "metadata": {},
   "outputs": [
    {
     "name": "stdout",
     "output_type": "stream",
     "text": [
      "Number of rows: (147, 6)\n"
     ]
    },
    {
     "data": {
      "text/html": [
       "<div>\n",
       "<style scoped>\n",
       "    .dataframe tbody tr th:only-of-type {\n",
       "        vertical-align: middle;\n",
       "    }\n",
       "\n",
       "    .dataframe tbody tr th {\n",
       "        vertical-align: top;\n",
       "    }\n",
       "\n",
       "    .dataframe thead th {\n",
       "        text-align: right;\n",
       "    }\n",
       "</style>\n",
       "<table border=\"1\" class=\"dataframe\">\n",
       "  <thead>\n",
       "    <tr style=\"text-align: right;\">\n",
       "      <th></th>\n",
       "      <th>Saisonkarte_Erwachsene</th>\n",
       "      <th>Saisonkarte_Kinder</th>\n",
       "      <th>Tageskarte_Erwachsene</th>\n",
       "      <th>Tageskarte_Kinder</th>\n",
       "    </tr>\n",
       "  </thead>\n",
       "  <tbody>\n",
       "    <tr>\n",
       "      <th>count</th>\n",
       "      <td>146.000000</td>\n",
       "      <td>136.000000</td>\n",
       "      <td>138.000000</td>\n",
       "      <td>135.000000</td>\n",
       "    </tr>\n",
       "    <tr>\n",
       "      <th>mean</th>\n",
       "      <td>723.945205</td>\n",
       "      <td>312.911765</td>\n",
       "      <td>49.652899</td>\n",
       "      <td>27.664444</td>\n",
       "    </tr>\n",
       "    <tr>\n",
       "      <th>std</th>\n",
       "      <td>977.369805</td>\n",
       "      <td>144.385927</td>\n",
       "      <td>18.083643</td>\n",
       "      <td>9.685876</td>\n",
       "    </tr>\n",
       "    <tr>\n",
       "      <th>min</th>\n",
       "      <td>1.000000</td>\n",
       "      <td>0.000000</td>\n",
       "      <td>20.000000</td>\n",
       "      <td>0.000000</td>\n",
       "    </tr>\n",
       "    <tr>\n",
       "      <th>25%</th>\n",
       "      <td>340.500000</td>\n",
       "      <td>203.000000</td>\n",
       "      <td>35.000000</td>\n",
       "      <td>22.000000</td>\n",
       "    </tr>\n",
       "    <tr>\n",
       "      <th>50%</th>\n",
       "      <td>549.000000</td>\n",
       "      <td>299.000000</td>\n",
       "      <td>44.000000</td>\n",
       "      <td>26.000000</td>\n",
       "    </tr>\n",
       "    <tr>\n",
       "      <th>75%</th>\n",
       "      <td>899.000000</td>\n",
       "      <td>399.000000</td>\n",
       "      <td>63.750000</td>\n",
       "      <td>31.000000</td>\n",
       "    </tr>\n",
       "    <tr>\n",
       "      <th>max</th>\n",
       "      <td>11449.000000</td>\n",
       "      <td>875.000000</td>\n",
       "      <td>95.000000</td>\n",
       "      <td>55.000000</td>\n",
       "    </tr>\n",
       "  </tbody>\n",
       "</table>\n",
       "</div>"
      ],
      "text/plain": [
       "       Saisonkarte_Erwachsene  Saisonkarte_Kinder  Tageskarte_Erwachsene  \\\n",
       "count              146.000000          136.000000             138.000000   \n",
       "mean               723.945205          312.911765              49.652899   \n",
       "std                977.369805          144.385927              18.083643   \n",
       "min                  1.000000            0.000000              20.000000   \n",
       "25%                340.500000          203.000000              35.000000   \n",
       "50%                549.000000          299.000000              44.000000   \n",
       "75%                899.000000          399.000000              63.750000   \n",
       "max              11449.000000          875.000000              95.000000   \n",
       "\n",
       "       Tageskarte_Kinder  \n",
       "count         135.000000  \n",
       "mean           27.664444  \n",
       "std             9.685876  \n",
       "min             0.000000  \n",
       "25%            22.000000  \n",
       "50%            26.000000  \n",
       "75%            31.000000  \n",
       "max            55.000000  "
      ]
     },
     "execution_count": 2,
     "metadata": {},
     "output_type": "execute_result"
    }
   ],
   "source": [
    "# Option (1): Send an HTTP request to the URL\n",
    "# url = 'https://www.skiinfo.de/schweiz/skipaesse'\n",
    "# response = requests.get(url)\n",
    "# html_content = response.content\n",
    "\n",
    "# Option (2): Read html from file\n",
    "# Read html from file\n",
    "with open('skipass.html', 'r') as file:\n",
    "    html_content = file.read()\n",
    "\n",
    "# Parse the HTML content\n",
    "soup = BeautifulSoup(html_content, 'html.parser')\n",
    "\n",
    "# Locate the table and extract values\n",
    "table = soup.find('table')\n",
    "\n",
    "# Extract table headers\n",
    "headers = [header.get_text().replace('\\xa0', '') for header in table.find_all('th')]\n",
    "\n",
    "# Extract table rows\n",
    "rows = []\n",
    "for row in table.find_all('tr')[1:]:\n",
    "    cells = row.find_all('td')\n",
    "    row_data = [cell.get_text().replace('\\xa0', '').strip() for cell in cells]\n",
    "    rows.append(row_data)\n",
    "\n",
    "# Create a DataFrame\n",
    "df = pd.DataFrame(rows, columns=headers)\n",
    "\n",
    "# Change column names\n",
    "df.columns = ['Skigebiet', \n",
    "              'Saisonkarte_Erwachsene', \n",
    "              'Saisonkarte_Kinder', \n",
    "              'Tageskarte_Erwachsene',\n",
    "              'Tageskarte_Kinder',\n",
    "              'Online_Kaufen']\n",
    "\n",
    "# Show dimensions\n",
    "print('Number of rows:', df.shape)\n",
    "\n",
    "# Change data types and remove special characters\n",
    "df['Saisonkarte_Erwachsene'] = pd.to_numeric(df['Saisonkarte_Erwachsene'].str.replace(',', ''), errors='coerce')\n",
    "df['Saisonkarte_Kinder'] = pd.to_numeric(df['Saisonkarte_Kinder'].str.replace(',', ''), errors='coerce')\n",
    "df['Tageskarte_Erwachsene'] = pd.to_numeric(df['Tageskarte_Erwachsene'].str.replace(',', ''), errors='coerce')\n",
    "df['Tageskarte_Kinder'] = pd.to_numeric(df['Tageskarte_Kinder'].str.replace(',', ''), errors='coerce')\n",
    "\n",
    "# Write to csv\n",
    "df.to_csv('skiinfo.csv', index=False)\n",
    "\n",
    "# Show the first 5 rows\n",
    "df.describe()"
   ]
  },
  {
   "cell_type": "markdown",
   "metadata": {},
   "source": [
    "## Histogram of Skiprices"
   ]
  },
  {
   "cell_type": "code",
   "execution_count": 3,
   "metadata": {},
   "outputs": [
    {
     "data": {
      "image/png": "[encoded data removed]",
      "text/plain": [
       "<Figure size 700x600 with 4 Axes>"
      ]
     },
     "metadata": {},
     "output_type": "display_data"
    }
   ],
   "source": [
    "# Histogramme erstellen\n",
    "fig, axes = plt.subplots(2, 2, figsize=(7, 6))\n",
    "\n",
    "df['Saisonkarte_Erwachsene'].plot(kind='hist', \n",
    "                                  bins=20,\n",
    "                                  edgecolor='black',\n",
    "                                  color='greenyellow', \n",
    "                                  ax=axes[0, 0])\n",
    "axes[0, 0].set_title('Histogram of Saisonkarte_Erwachsene', fontsize=11)\n",
    "axes[0, 0].set_xlabel('Price')\n",
    "axes[0, 0].set_ylabel('Frequency')\n",
    "\n",
    "df['Saisonkarte_Kinder'].plot(kind='hist', \n",
    "                              bins=20, \n",
    "                              edgecolor='black',\n",
    "                              color='orange',  \n",
    "                              ax=axes[0, 1])\n",
    "axes[0, 1].set_title('Histogram of Saisonkarte_Kinder', fontsize=11)\n",
    "axes[0, 1].set_xlabel('Price')\n",
    "axes[0, 1].set_ylabel('Frequency')\n",
    "\n",
    "df['Tageskarte_Erwachsene'].plot(kind='hist', \n",
    "                                 bins=20, \n",
    "                                 edgecolor='black',\n",
    "                                 color='darkred', \n",
    "                                 ax=axes[1, 0])\n",
    "axes[1, 0].set_title('Histogram of Tageskarte_Erwachsene', fontsize=11)\n",
    "axes[1, 0].set_xlabel('Price')\n",
    "axes[1, 0].set_ylabel('Frequency')\n",
    "\n",
    "df['Tageskarte_Kinder'].plot(kind='hist', \n",
    "                             bins=20, \n",
    "                             edgecolor='black',\n",
    "                             color='blue', \n",
    "                             ax=axes[1, 1])\n",
    "axes[1, 1].set_title('Histogram of Tageskarte_Kinder', fontsize=11)\n",
    "axes[1, 1].set_xlabel('Price')\n",
    "axes[1, 1].set_ylabel('Frequency')\n",
    "\n",
    "plt.tight_layout()\n",
    "plt.show()"
   ]
  },
  {
   "cell_type": "markdown",
   "metadata": {},
   "source": [
    "### Jupyter notebook --footer info-- (please always provide this at the end of each notebook)"
   ]
  },
  {
   "cell_type": "code",
   "execution_count": 4,
   "metadata": {},
   "outputs": [
    {
     "name": "stdout",
     "output_type": "stream",
     "text": [
      "-----------------------------------\n",
      "POSIX\n",
      "Linux | 6.8.0-1030-azure\n",
      "Datetime: 2025-08-25 15:54:47\n",
      "Python Version: 3.11.13\n",
      "-----------------------------------\n"
     ]
    }
   ],
   "source": [
    "import os\n",
    "import platform\n",
    "import socket\n",
    "from platform import python_version\n",
    "from datetime import datetime\n",
    "\n",
    "print('-----------------------------------')\n",
    "print(os.name.upper())\n",
    "print(platform.system(), '|', platform.release())\n",
    "print('Datetime:', datetime.now().strftime(\"%Y-%m-%d %H:%M:%S\"))\n",
    "print('Python Version:', python_version())\n",
    "print('-----------------------------------')"
   ]
  }
 ],
 "metadata": {
  "kernelspec": {
   "display_name": "Python 3",
   "language": "python",
   "name": "python3"
  },
  "language_info": {
   "codemirror_mode": {
    "name": "ipython",
    "version": 3
   },
   "file_extension": ".py",
   "mimetype": "text/x-python",
   "name": "python",
   "nbconvert_exporter": "python",
   "pygments_lexer": "ipython3",
   "version": "3.11.13"
  }
 },
 "nbformat": 4,
 "nbformat_minor": 2
}
