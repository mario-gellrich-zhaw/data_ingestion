{
 "cells": [
  {
   "cell_type": "markdown",
   "id": "frank-setup",
   "metadata": {},
   "source": [
    "# Web Scraping with Python and Beautifulsoup"
   ]
  },
  {
   "cell_type": "markdown",
   "id": "competitive-cameroon",
   "metadata": {},
   "source": [
    "## Libraries and settings"
   ]
  },
  {
   "cell_type": "code",
   "execution_count": null,
   "id": "indoor-washer",
   "metadata": {},
   "outputs": [],
   "source": [
    "import requests\n",
    "import xlwt\n",
    "from bs4 import BeautifulSoup\n",
    "import os\n",
    "\n",
    "# Get current working directory\n",
    "print(os.getcwd())"
   ]
  },
  {
   "cell_type": "markdown",
   "id": "advisory-thumb",
   "metadata": {},
   "source": [
    "## Create workbook"
   ]
  },
  {
   "cell_type": "code",
   "execution_count": null,
   "id": "contained-columbus",
   "metadata": {},
   "outputs": [],
   "source": [
    "wb = xlwt.Workbook()\n",
    "ws = wb.add_sheet('Emails')\n",
    "ws.write(0,0,'Emails')"
   ]
  },
  {
   "cell_type": "markdown",
   "id": "structural-produce",
   "metadata": {},
   "source": [
    "## Initialize list and counter"
   ]
  },
  {
   "cell_type": "code",
   "execution_count": null,
   "id": "floating-glucose",
   "metadata": {},
   "outputs": [],
   "source": [
    "emailList = []\n",
    "r = 0"
   ]
  },
  {
   "cell_type": "markdown",
   "id": "stupid-daniel",
   "metadata": {},
   "source": [
    "## Add URL to search for emails"
   ]
  },
  {
   "cell_type": "code",
   "execution_count": null,
   "id": "bridal-isolation",
   "metadata": {},
   "outputs": [],
   "source": [
    "# Add url of the page you want to scrape to urlString\n",
    "urlString = 'https://www.zh.ch/de/bildung/schulen.html'\n",
    "# urlString='https://www.agvs-upsa.ch/de/verband/mitgliederverzeichnis/liste'"
   ]
  },
  {
   "cell_type": "markdown",
   "id": "valid-radical",
   "metadata": {},
   "source": [
    "## Function to extract emails and store them in the list"
   ]
  },
  {
   "cell_type": "code",
   "execution_count": null,
   "id": "tribal-animal",
   "metadata": {},
   "outputs": [],
   "source": [
    "def emailExtractor(urlString):\n",
    "    getH=requests.get(urlString)\n",
    "    h=getH.content\n",
    "    soup=BeautifulSoup(h,'html.parser')\n",
    "    mailtos = soup.select('a[href^=mailto]')\n",
    "    for i in mailtos:\n",
    "        href=i['href']\n",
    "        try:\n",
    "            str1, str2 = href.split(':')\n",
    "        except ValueError:\n",
    "            break\n",
    "        \n",
    "        emailList.append(str2)\n",
    "\n",
    "emailExtractor(urlString)"
   ]
  },
  {
   "cell_type": "code",
   "execution_count": null,
   "id": "descending-smith",
   "metadata": {},
   "outputs": [],
   "source": [
    "# Parts of the function ...\n",
    "getH = requests.get(urlString)\n",
    "print(getH)"
   ]
  },
  {
   "cell_type": "code",
   "execution_count": null,
   "id": "better-johnston",
   "metadata": {},
   "outputs": [],
   "source": [
    "# HTML-document\n",
    "h    = getH.content\n",
    "print(h[0:1000])"
   ]
  },
  {
   "cell_type": "code",
   "execution_count": null,
   "id": "hydraulic-joint",
   "metadata": {},
   "outputs": [],
   "source": [
    "# HTML parse tree\n",
    "soup = BeautifulSoup(h,'html.parser')\n",
    "# print(soup)"
   ]
  },
  {
   "cell_type": "code",
   "execution_count": null,
   "id": "broad-project",
   "metadata": {},
   "outputs": [],
   "source": [
    "# Links containing emails\n",
    "mailtos = soup.select('a[href^=mailto]')\n",
    "print(mailtos[0:3])"
   ]
  },
  {
   "cell_type": "code",
   "execution_count": null,
   "id": "written-excess",
   "metadata": {},
   "outputs": [],
   "source": [
    "# Get single email\n",
    "href = mailtos[0]['href']\n",
    "href"
   ]
  },
  {
   "cell_type": "code",
   "execution_count": null,
   "id": "settled-attitude",
   "metadata": {},
   "outputs": [],
   "source": [
    "# Splits the string\n",
    "str1, str2 = href.split(':')\n",
    "str2"
   ]
  },
  {
   "cell_type": "markdown",
   "id": "fundamental-unknown",
   "metadata": {},
   "source": [
    "## Print scraped emails and save it in an excel sheet"
   ]
  },
  {
   "cell_type": "code",
   "execution_count": null,
   "id": "determined-sense",
   "metadata": {},
   "outputs": [],
   "source": [
    "for email in emailList:\n",
    "    r=r+1\n",
    "    ws.write(r,0,email)\n",
    "    print(email)\n",
    "wb.save('emails.xls')"
   ]
  },
  {
   "attachments": {},
   "cell_type": "markdown",
   "id": "562a0720",
   "metadata": {},
   "source": [
    "### Jupyter notebook --footer info-- (please always provide this at the end of each notebook)"
   ]
  },
  {
   "cell_type": "code",
   "execution_count": null,
   "id": "269243db",
   "metadata": {},
   "outputs": [],
   "source": [
    "import os\n",
    "import platform\n",
    "import socket\n",
    "from platform import python_version\n",
    "from datetime import datetime\n",
    "\n",
    "print('-----------------------------------')\n",
    "print(os.name.upper())\n",
    "print(platform.system(), '|', platform.release())\n",
    "print('Datetime:', datetime.now().strftime(\"%Y-%m-%d %H:%M:%S\"))\n",
    "print('Python Version:', python_version())\n",
    "print('-----------------------------------')"
   ]
  }
 ],
 "metadata": {
  "kernelspec": {
   "display_name": "daengenv",
   "language": "python",
   "name": "python3"
  },
  "language_info": {
   "codemirror_mode": {
    "name": "ipython",
    "version": 3
   },
   "file_extension": ".py",
   "mimetype": "text/x-python",
   "name": "python",
   "nbconvert_exporter": "python",
   "pygments_lexer": "ipython3",
   "version": "3.11.9"
  }
 },
 "nbformat": 4,
 "nbformat_minor": 5
}
