{
 "cells": [
  {
   "cell_type": "markdown",
   "id": "viral-receipt",
   "metadata": {},
   "source": [
    "# Flickr REST API: Get information from photos, get and plot photos"
   ]
  },
  {
   "cell_type": "markdown",
   "id": "db7e9667",
   "metadata": {},
   "source": [
    "## Libraries and Settings"
   ]
  },
  {
   "cell_type": "code",
   "execution_count": null,
   "id": "1f2918c5",
   "metadata": {},
   "outputs": [],
   "source": [
    "# Libraries\n",
    "import os\n",
    "import json\n",
    "import random\n",
    "import fnmatch\n",
    "import pandas as pd\n",
    "import urllib.request\n",
    "from flickrapi import FlickrAPI\n",
    "import matplotlib.pyplot as plt\n",
    "import matplotlib.image as mpimg\n",
    "\n",
    "# Keys for flickr API\n",
    "try:\n",
    "    with open('credentials.json', 'r') as file:\n",
    "        credentials = json.load(file)\n",
    "\n",
    "    # Keys for flickr API\n",
    "    FLICKR_PUBLIC = credentials['FLICKR_PUBLIC']\n",
    "    FLICKR_SECRET = credentials['FLICKR_SECRET']\n",
    "except:\n",
    "    print('Please provide your credentials in credentials.json file!')\n",
    "\n",
    "# Settings\n",
    "import warnings\n",
    "warnings.filterwarnings(\"ignore\")\n",
    "\n",
    "# Current working directory\n",
    "print(f'Current working directory: {os.getcwd()}')"
   ]
  },
  {
   "cell_type": "markdown",
   "id": "b4120bb9",
   "metadata": {},
   "source": [
    "## Define photo topic and get photos"
   ]
  },
  {
   "cell_type": "code",
   "execution_count": null,
   "id": "detailed-criticism",
   "metadata": {},
   "outputs": [],
   "source": [
    "# Settings (extras = different resolution of photos)\n",
    "flickr = FlickrAPI(FLICKR_PUBLIC, FLICKR_SECRET, format='parsed-json')\n",
    "extras = 'url_sq,url_t,url_s,url_q,url_m,url_n,url_z,url_c,url_l,url_o'\n",
    "\n",
    "# Get information about photos using the flickr API\n",
    "cont = flickr.photos.search(text='butterflies', per_page=10, extras=extras)\n",
    "photos = cont['photos']\n",
    "\n",
    "# Object type\n",
    "print(type(photos))\n",
    "\n",
    "# Print keys of dictionary\n",
    "print(photos.keys())\n",
    "\n",
    "# Print values\n",
    "df = pd.DataFrame.from_dict(photos)\n",
    "df"
   ]
  },
  {
   "cell_type": "markdown",
   "id": "c8736941",
   "metadata": {},
   "source": [
    "## Derive information about the first photo from the dictionary"
   ]
  },
  {
   "cell_type": "code",
   "execution_count": null,
   "id": "disturbed-marketing",
   "metadata": {},
   "outputs": [],
   "source": [
    "# Derive information about the first photo from the dictionary\n",
    "photo_01 = photos[\"photo\"][random.randint(0,9)]\n",
    "\n",
    "try:\n",
    "    from pprint import pprint\n",
    "    pprint(photo_01)\n",
    "except:\n",
    "    print(photo_01)"
   ]
  },
  {
   "cell_type": "markdown",
   "id": "611bd06f",
   "metadata": {},
   "source": [
    "## Show url of first photo in the list"
   ]
  },
  {
   "cell_type": "code",
   "execution_count": null,
   "id": "differential-sally",
   "metadata": {},
   "outputs": [],
   "source": [
    "# Photo url\n",
    "url = photo_01[\"url_s\"]\n",
    "url"
   ]
  },
  {
   "cell_type": "markdown",
   "id": "5e02e02f",
   "metadata": {},
   "source": [
    "## Download single photo"
   ]
  },
  {
   "cell_type": "code",
   "execution_count": null,
   "id": "hourly-kazakhstan",
   "metadata": {},
   "outputs": [],
   "source": [
    "# Download single photo\n",
    "urllib.request.urlretrieve(url, 'photo_01.jpg')"
   ]
  },
  {
   "cell_type": "markdown",
   "id": "4afd27ba",
   "metadata": {},
   "source": [
    "## Plot single photo"
   ]
  },
  {
   "cell_type": "code",
   "execution_count": null,
   "id": "sought-conversion",
   "metadata": {},
   "outputs": [],
   "source": [
    "# Plot photo\n",
    "img = mpimg.imread('photo_01.jpg')\n",
    "plt.figure(figsize=(6,6))\n",
    "imgplot = plt.imshow(img)"
   ]
  },
  {
   "attachments": {},
   "cell_type": "markdown",
   "id": "f58083e4",
   "metadata": {},
   "source": [
    "### Jupyter notebook --footer info-- (please always provide this at the end of each notebook)"
   ]
  },
  {
   "cell_type": "code",
   "execution_count": null,
   "id": "a98db001",
   "metadata": {},
   "outputs": [],
   "source": [
    "import os\n",
    "import platform\n",
    "import socket\n",
    "from platform import python_version\n",
    "from datetime import datetime\n",
    "\n",
    "print('-----------------------------------')\n",
    "print(os.name.upper())\n",
    "print(platform.system(), '|', platform.release())\n",
    "print('Datetime:', datetime.now().strftime(\"%Y-%m-%d %H:%M:%S\"))\n",
    "print('Python Version:', python_version())\n",
    "print('-----------------------------------')"
   ]
  }
 ],
 "metadata": {
  "kernelspec": {
   "display_name": "daengenv",
   "language": "python",
   "name": "python3"
  },
  "language_info": {
   "codemirror_mode": {
    "name": "ipython",
    "version": 3
   },
   "file_extension": ".py",
   "mimetype": "text/x-python",
   "name": "python",
   "nbconvert_exporter": "python",
   "pygments_lexer": "ipython3",
   "version": "3.11.9"
  }
 },
 "nbformat": 4,
 "nbformat_minor": 5
}
