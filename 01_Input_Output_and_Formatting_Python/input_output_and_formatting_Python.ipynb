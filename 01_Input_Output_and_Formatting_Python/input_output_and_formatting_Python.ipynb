{
 "cells": [
  {
   "attachments": {},
   "cell_type": "markdown",
   "metadata": {},
   "source": [
    "# Input and Output in Python, Formatting of Strings & Dates"
   ]
  },
  {
   "attachments": {},
   "cell_type": "markdown",
   "metadata": {},
   "source": [
    "## Libraries and settings"
   ]
  },
  {
   "cell_type": "code",
   "execution_count": null,
   "metadata": {},
   "outputs": [],
   "source": [
    "# Libraries\n",
    "import os\n",
    "import re\n",
    "import pytz\n",
    "import json\n",
    "import folium\n",
    "import sqlite3\n",
    "import pandas as pd\n",
    "import matplotlib.pyplot as plt\n",
    "\n",
    "from datetime import date\n",
    "from datetime import time\n",
    "\n",
    "from zipfile import ZipFile\n",
    "from bs4 import BeautifulSoup\n",
    "\n",
    "from PyPDF2 import PdfReader\n",
    "\n",
    "from reportlab.lib.units import inch\n",
    "from reportlab.lib.colors import blue\n",
    "from reportlab.lib.pagesizes import LETTER\n",
    "from reportlab.pdfgen.canvas import Canvas\n",
    "\n",
    "# Ignore warnings\n",
    "import warnings\n",
    "warnings.filterwarnings('ignore')\n",
    "\n",
    "# Show current working directory\n",
    "print(os.getcwd())"
   ]
  },
  {
   "attachments": {},
   "cell_type": "markdown",
   "metadata": {},
   "source": [
    "## Read & write data from/to a database\n",
    "Most data driven companies store their data in database management system. <b style=\"color:yellowgreen\">SQLite</b> is a lightweight relational database management system (RDBMS). With python you can connect to a SQLite DB and make requests using SQL."
   ]
  },
  {
   "cell_type": "markdown",
   "metadata": {},
   "source": [
    "### Write data to a database"
   ]
  },
  {
   "cell_type": "code",
   "execution_count": null,
   "metadata": {},
   "outputs": [],
   "source": [
    "# Create e new db\n",
    "conn = sqlite3.connect('example_sqlite.db')\n",
    "\n",
    "# Close connection to db\n",
    "conn.close()"
   ]
  },
  {
   "cell_type": "code",
   "execution_count": null,
   "metadata": {},
   "outputs": [],
   "source": [
    "# Open connection to db\n",
    "conn = sqlite3.connect('example_sqlite.db')\n",
    "\n",
    "# Define variables and data types for the (empty) table\n",
    "conn.execute('''CREATE TABLE IF NOT EXISTS COMPANY\n",
    "             (ID INT PRIMARY KEY     NOT NULL,\n",
    "             NAME           TEXT    NOT NULL,\n",
    "             AGE            INT     NOT NULL,\n",
    "             CITY        CHAR(50),\n",
    "             SALARY         REAL);''')\n",
    "\n",
    "# Read data from a file and write to data frame\n",
    "data = pd.read_excel(\"db_data.xlsx\", sheet_name = \"Sheet1\")\n",
    "print(data)\n",
    "\n",
    "# Write data to the data base table named 'COMPANY'\n",
    "data.to_sql('COMPANY', conn, if_exists='replace')\n",
    "\n",
    "# Commit the changes to the table\n",
    "conn.commit()\n",
    "\n",
    "# Close connection to db\n",
    "conn.close()"
   ]
  },
  {
   "attachments": {},
   "cell_type": "markdown",
   "metadata": {},
   "source": [
    "### Query the database using SQL and write result to a pandas data frame "
   ]
  },
  {
   "cell_type": "code",
   "execution_count": null,
   "metadata": {},
   "outputs": [],
   "source": [
    "# Connection to db\n",
    "conn = sqlite3.connect(\"example_sqlite.db\")\n",
    "\n",
    "# Read data\n",
    "df_sub = pd.read_sql(\"SELECT * FROM COMPANY WHERE AGE <= 26\", \n",
    "                     con=conn,\n",
    "                     index_col=['index'])\n",
    "print(df_sub)\n",
    "    \n",
    "# Close connection to db\n",
    "conn.close()"
   ]
  },
  {
   "cell_type": "markdown",
   "metadata": {},
   "source": [
    "## Read & write data from/to files"
   ]
  },
  {
   "cell_type": "markdown",
   "metadata": {},
   "source": [
    "### Common data/file formats"
   ]
  },
  {
   "cell_type": "markdown",
   "metadata": {},
   "source": [
    "Data formats in information technology may refer to:\n",
    "\n",
    "- Data type, constraint placed upon the interpretation of data in a type system\n",
    "- Signal (electrical engineering), a format for signal data used in signal processing\n",
    "- Recording format, a format for encoding data for storage on a storage medium\n",
    "- <b style=\"color:yellowgreen\">File format, a format for encoding data for storage in a computer file</b>\n",
    "- Container format (digital), a format for encoding data for storage by means of a standardized audio/video codecs file format\n",
    "- Content format, a format for representing media content as data\n",
    "- Audio format, a format for encoded sound data\n",
    "- Video format, a format for encoded video data\n",
    "\n",
    "Wikipedia: https://en.wikipedia.org/wiki/Data_format\n",
    "\n",
    "This section provides common <b style=\"color:yellowgreen\">file formats</b> a data scientist or a data engineer must be aware of. Later, we’ll see how to read these file formats in Python.\n",
    "\n",
    "List with common file formats explained in this notebook:\n",
    "- CSV\n",
    "- TXT\n",
    "- JSON\n",
    "- XML\n",
    "- HTML\n",
    "- ZIP\n",
    "- XLSX\n",
    "- PDF\n",
    "- Image files (e.g. JPEG)"
   ]
  },
  {
   "attachments": {},
   "cell_type": "markdown",
   "metadata": {},
   "source": [
    "### CSV (comma separated value)\n",
    "\n",
    "- A comma-separated values (CSV) file is a delimited text file.\n",
    "- Each line of the file is a data record.\n",
    "- Each record consists of one or more fields, separated by a separator (default = comma).\n",
    "- The use of the comma as a field separator is the source of the name for this file format.\n",
    "- The seperator can also be user-defined, e.g. you can also use a semicolon instead of a comma.\n",
    "- A CSV file typically stores tabular data (numbers and text)."
   ]
  },
  {
   "cell_type": "code",
   "execution_count": null,
   "metadata": {},
   "outputs": [],
   "source": [
    "# Read data from .csv-file using pandas\n",
    "data = pd.read_csv(\"example.csv\", sep=\";\")\n",
    "\n",
    "# Print the header info of data (first five rows)\n",
    "print(data.head(5))\n",
    "\n",
    "# Write data to csv\n",
    "data.to_csv(\"example_write.csv\", sep=\";\")"
   ]
  },
  {
   "cell_type": "markdown",
   "metadata": {},
   "source": [
    "### TXT (plain text)\n",
    "\n",
    "- In Plain Text file format, everything is written in plain text\n",
    "- Usually, this text is in unstructured form and there is no meta-data associated with it\n",
    "- The TXT file format can easily be read by any program"
   ]
  },
  {
   "cell_type": "code",
   "execution_count": null,
   "metadata": {},
   "outputs": [],
   "source": [
    "# Open a connection to the text-file\n",
    "text_file = open(\"example.txt\", \n",
    "                 \"r\", \n",
    "                 encoding='utf-8')\n",
    "\n",
    "# Read data from .txt file\n",
    "lines = text_file.read()\n",
    "\n",
    "# Show type\n",
    "print(type(lines))\n",
    "\n",
    "# Print the data\n",
    "print(lines)"
   ]
  },
  {
   "cell_type": "code",
   "execution_count": null,
   "metadata": {},
   "outputs": [],
   "source": [
    "# Write data to .txt\n",
    "lines = ['Dorothy lived in the midst of the great Kansas prairies', \n",
    "         'with Uncle Henry, who was a farmer ...']\n",
    "\n",
    "with open('example_write.txt', 'w') as f:\n",
    "    f.writelines(lines)\n",
    "    \n",
    "# Check whether file exists\n",
    "files = [f for f in os.listdir('.') if re.match('example_write.txt', f)]\n",
    "print(files)"
   ]
  },
  {
   "cell_type": "markdown",
   "metadata": {},
   "source": [
    "### JSON (JavaScript Object Notation)\n",
    "\n",
    "- JSON is a syntax for storing and exchanging data\n",
    "- JSON is text, written with JavaScript object notation"
   ]
  },
  {
   "cell_type": "code",
   "execution_count": null,
   "metadata": {},
   "outputs": [],
   "source": [
    "# Read data\n",
    "with open('example.json', 'r') as f:\n",
    "    data = json.load(f)\n",
    "print(data)\n",
    "\n",
    "# Read data to a data frame using the pandas library\n",
    "data = pd.read_json(\"example.json\")\n",
    "\n",
    "# Print the data\n",
    "print(data)"
   ]
  },
  {
   "cell_type": "code",
   "execution_count": null,
   "metadata": {},
   "outputs": [],
   "source": [
    "# Write data to .json \n",
    "data.to_json('example_write.json')\n",
    "\n",
    "# Check whether the file exists\n",
    "files = [f for f in os.listdir('.') if re.match('example_write.json', f)]\n",
    "print(files)"
   ]
  },
  {
   "cell_type": "markdown",
   "metadata": {},
   "source": [
    "### XML (extensible markup language)\n",
    "\n",
    "- XML stands for extensible Markup Language\n",
    "- XML is a markup language much like HTML\n",
    "- XML was designed to store and transport data\n",
    "- XML was designed to be self-descriptive\n",
    "- XML is a W3C Recommendation"
   ]
  },
  {
   "cell_type": "code",
   "execution_count": null,
   "metadata": {},
   "outputs": [],
   "source": [
    "# First option: reading the xml file with BeautifulSoup\n",
    "bs = BeautifulSoup(open('example.xml'), 'html.parser')\n",
    "print(bs.prettify())\n",
    "\n",
    "# Second option: using pandas and convert thr xml file to a data frame\n",
    "data = pd.read_xml(\"example.xml\")\n",
    "print(\"------------------------\")\n",
    "print(data[[\"name\",\"price\"]])"
   ]
  },
  {
   "cell_type": "code",
   "execution_count": null,
   "metadata": {},
   "outputs": [],
   "source": [
    "# Second option: reading xml using .read_xml() from pandas\n",
    "data = pd.read_xml(\"example.xml\")\n",
    "print(data)\n",
    "\n",
    "# Write data to .xml\n",
    "data.to_xml('example_write.xml')\n",
    "\n",
    "# Check whether file exists\n",
    "files = [f for f in os.listdir('.') if re.match('example_write.xml', f)]\n",
    "print(files)"
   ]
  },
  {
   "cell_type": "markdown",
   "metadata": {},
   "source": [
    "### HTML (hyper text markup language)\n",
    "\n",
    "- HTML stands for Hyper Text Markup Language\n",
    "- HTML is the standard markup language for creating Web pages\n",
    "- HTML describes the structure of a Web page\n",
    "- HTML consists of a series of elements\n",
    "- HTML elements tell the browser how to display the content\n",
    "- HTML elements label pieces of content such as \"this is a heading\", \"this is a paragraph\", \"this is a link\", etc."
   ]
  },
  {
   "cell_type": "code",
   "execution_count": null,
   "metadata": {},
   "outputs": [],
   "source": [
    "# Read data from .html\n",
    "filename = 'example.html'\n",
    "html = open(filename, \"r\").read()\n",
    "print(html)"
   ]
  },
  {
   "cell_type": "code",
   "execution_count": null,
   "metadata": {},
   "outputs": [],
   "source": [
    "# Write data to .html (taking the html-file from above)\n",
    "with open('example_write.html', 'w') as f:\n",
    "    f.writelines(html)\n",
    "    \n",
    "# Check whether file exists\n",
    "files = [f for f in os.listdir('.') if re.match('example_write.html', f)]\n",
    "print(files)"
   ]
  },
  {
   "cell_type": "markdown",
   "metadata": {},
   "source": [
    "### ZIP (archive file format)\n",
    "\n",
    "- ZIP is an archive file format that supports lossless data compression\n",
    "- A ZIP file may contain one or more files or directories that may have been compressed\n",
    "- The ZIP file format permits a number of compression algorithms, though DEFLATE is the most common\n",
    "- The name \"zip\" (meaning \"move at high speed\") was suggested by R. Mahoney\n",
    "- They wanted to imply that their product would be faster than ARC and other compression formats of the time"
   ]
  },
  {
   "cell_type": "code",
   "execution_count": null,
   "metadata": {},
   "outputs": [],
   "source": [
    "# Pandas supports zip file reads\n",
    "data = pd.read_csv(\"archive.zip\", sep=\";\")\n",
    "data.head(5)"
   ]
  },
  {
   "cell_type": "code",
   "execution_count": null,
   "metadata": {},
   "outputs": [],
   "source": [
    "# Create an empty Zip-archive\n",
    "zipObj = ZipFile('example_write.zip', 'w')\n",
    "\n",
    "# Add selected files to the zip archive\n",
    "zipObj.write('example.csv')\n",
    "zipObj.write('example.html')\n",
    "zipObj.write('example.json')\n",
    "\n",
    "# Close the Zip-archive\n",
    "zipObj.close()\n",
    "\n",
    "# Check whether zip-file exists\n",
    "files = [f for f in os.listdir('.') if re.match('example_write.zip', f)]\n",
    "print(files)"
   ]
  },
  {
   "cell_type": "markdown",
   "metadata": {},
   "source": [
    "### XLSX (Microsoft Excel Open XML file format)\n",
    "\n",
    "- It is an XML-based file format created by Microsoft Excel \n",
    "- The XLSX format was introduced with Microsoft Office 2007\n",
    "- In XLSX data is organized under the cells and columns in a sheet\n",
    "- Each XLSX file may contain one or more sheets\n",
    "- A single workbook can contain multiple sheets"
   ]
  },
  {
   "cell_type": "code",
   "execution_count": null,
   "metadata": {},
   "outputs": [],
   "source": [
    "# Read data from an example .xlsx-file\n",
    "data = pd.read_excel(\"example.xlsx\", sheet_name = \"sheet1\")\n",
    "\n",
    "# Print the data \n",
    "data.head(5)"
   ]
  },
  {
   "cell_type": "code",
   "execution_count": null,
   "metadata": {},
   "outputs": [],
   "source": [
    "# Write data to xlsx\n",
    "data.to_excel('example_write.xlsx', sheet_name = \"sheet1\")\n",
    "\n",
    "# Check whether file exists\n",
    "files = [f for f in os.listdir('.') if re.match('example_write.xlsx', f)]\n",
    "print(files)"
   ]
  },
  {
   "cell_type": "markdown",
   "metadata": {},
   "source": [
    "### PDF (portable document format)\n",
    "\n",
    "- PDF is a file format developed by Adobe in the 1990s to present documents, including text formatting and images, in a manner independent of application software, hardware, and operating systems\n",
    "- Based on the PostScript language, each PDF file encapsulates a complete description of a fixed-layout flat document, including the text, fonts, vector graphics, raster images and other information needed to display it"
   ]
  },
  {
   "cell_type": "code",
   "execution_count": null,
   "metadata": {},
   "outputs": [],
   "source": [
    "# Reading metadata\n",
    "reader = PdfReader(\"example.pdf\")\n",
    "meta = reader.metadata\n",
    "print(len(reader.pages))\n",
    "\n",
    "# All of the following could be None!\n",
    "print(meta.author)\n",
    "print(meta.creator)\n",
    "print(meta.producer)\n",
    "print(meta.subject)\n",
    "\n",
    "# Extract text\n",
    "page = reader.pages[0]\n",
    "print('\\n')\n",
    "print(page.extract_text())\n",
    "\n",
    "# Number of pages\n",
    "print('\\n')\n",
    "print(f'Number of pages in PDF: {len(reader.pages)}')\n"
   ]
  },
  {
   "cell_type": "code",
   "execution_count": null,
   "metadata": {},
   "outputs": [],
   "source": [
    "# Create a canvas\n",
    "canvas = Canvas(\"example_write.pdf\", pagesize = LETTER)\n",
    "\n",
    "# Set font to Times New Roman with 36-point size\n",
    "canvas.setFont(\"Times-Roman\", 36)\n",
    "\n",
    "# Draw blue text one inch from the left and ten inches from the bottom\n",
    "canvas.setFillColor(blue)\n",
    "canvas.drawString(1 * inch, 10 * inch, \"This is a PDF file ...\")\n",
    "\n",
    "# Save the PDF file\n",
    "canvas.save()\n",
    "\n",
    "# Check whether file exists\n",
    "files = [f for f in os.listdir('.') if re.match('example_write.pdf', f)]\n",
    "print(files)"
   ]
  },
  {
   "cell_type": "markdown",
   "metadata": {},
   "source": [
    "### Image file formats\n",
    "\n",
    "- Image files consists of pixels and meta-data associated with it\n",
    "- Usual image files are 3-dimensional, having RGB values\n",
    "- Image files can also be 2-dimensional (grayscale) or 4-dimensional (having intensity)\n",
    "- Each image consists one or more frames of pixels\n",
    "- Each frame is made up of two-dimensional array of pixel values\n",
    "- Pixel values can be of any intensity \n",
    "- Meta-data associated with an image, can be an image type (.png) or pixel dimensions\n",
    "- The different formats (JPEG, PNG, TIFF, GIF, ...) are used to organize and store digital images in a different way"
   ]
  },
  {
   "cell_type": "code",
   "execution_count": null,
   "metadata": {},
   "outputs": [],
   "source": [
    "# Read image\n",
    "image = plt.imread('example.jpeg')\n",
    "\n",
    "# Plot image\n",
    "plt.figure(figsize=(6,4))\n",
    "plt.imshow(image)"
   ]
  },
  {
   "cell_type": "markdown",
   "metadata": {},
   "source": [
    "### Spatial data"
   ]
  },
  {
   "cell_type": "code",
   "execution_count": null,
   "metadata": {},
   "outputs": [],
   "source": [
    "# Read spatial data\n",
    "url = (\"https://raw.githubusercontent.com/python-visualization/folium/master/examples/data\")\n",
    "state_geo = f\"{url}/us-states.json\"\n",
    "state_unemployment = f\"{url}/US_Unemployment_Oct2012.csv\"\n",
    "state_data = pd.read_csv(state_unemployment)\n",
    "\n",
    "# Create choropleth map\n",
    "m = folium.Map(location=[48, -102], zoom_start=3)\n",
    "folium.Choropleth(\n",
    "    geo_data=state_geo,\n",
    "    name=\"choropleth\",\n",
    "    data=state_data,\n",
    "    columns=[\"State\", \"Unemployment\"],\n",
    "    key_on=\"feature.id\",\n",
    "    fill_color=\"YlGn\",\n",
    "    fill_opacity=0.7,\n",
    "    line_opacity=0.2,\n",
    "    legend_name=\"Unemployment Rate (%)\",\n",
    ").add_to(m)\n",
    "\n",
    "folium.LayerControl().add_to(m)\n",
    "\n",
    "# Show map\n",
    "m"
   ]
  },
  {
   "cell_type": "markdown",
   "metadata": {},
   "source": [
    "# String formatting in Python"
   ]
  },
  {
   "cell_type": "markdown",
   "metadata": {},
   "source": [
    "## %-formatting"
   ]
  },
  {
   "cell_type": "code",
   "execution_count": null,
   "metadata": {},
   "outputs": [],
   "source": [
    "# Example (1):\n",
    "name = \"Eric\"\n",
    "print(\"Hello, %s.\" % name)\n",
    "\n",
    "# Example (2):\n",
    "name = \"Eric\"\n",
    "age = 74\n",
    "print(\"Hello, %s. You are %s.\" % (name, age))\n",
    "\n",
    "# Example (3):\n",
    "s1 = \"Peter\"\n",
    "s2 = \"Mary\"\n",
    "s3 = \"%s and %s are living together.\" % (s1, s2)\n",
    "s4 = \"{} and {} are living together.\".format(s1, s2)\n",
    "print(s3)\n",
    "print(s4)\n",
    "\n",
    "# Example (4):\n",
    "first_name = \"Eric\"\n",
    "last_name = \"Idle\"\n",
    "age = 74\n",
    "profession = \"comedian\"\n",
    "affiliation = \"Monty Python\"\n",
    "print(\"Hello, %s %s. You are %s. You are a %s. You were a member of %s.\" %\n",
    "      (first_name, last_name, age, profession, affiliation))"
   ]
  },
  {
   "cell_type": "markdown",
   "metadata": {},
   "source": [
    "## str.format()"
   ]
  },
  {
   "cell_type": "code",
   "execution_count": null,
   "metadata": {},
   "outputs": [],
   "source": [
    "# Example (1):\n",
    "name = 'Peter'\n",
    "age = 45\n",
    "print(\"Hello, {}. You are {}.\".format(name, age))\n",
    "\n",
    "# Example (2):\n",
    "print(\"Hello, {1}. You are {0}.\".format(age, name))\n",
    "\n",
    "# Example (3):\n",
    "person = {'name': 'Peter', 'age': 45}\n",
    "print(\"Hello, {name}. You are {age}.\".format(\n",
    "    name=person['name'], age=person['age']))\n",
    "\n",
    "# Example (4):\n",
    "person = {'name': 'Eric', 'age': 74}\n",
    "print(\"Hello, {name}. You are {age}.\".format(**person))\n",
    "\n",
    "# Example (5):\n",
    "first_name = \"Eric\"\n",
    "last_name = \"Idle\"\n",
    "age = 74\n",
    "profession = \"comedian\"\n",
    "affiliation = \"Monty Python\"\n",
    "print((\"Hello, {first_name} {last_name}. You are {age}. \" +\n",
    "       \"You are a {profession}. You were a member of {affiliation}.\")\n",
    "      .format(first_name=first_name, last_name=last_name, age=age,\n",
    "              profession=profession, affiliation=affiliation))"
   ]
  },
  {
   "cell_type": "markdown",
   "metadata": {},
   "source": [
    "#### In order to print the format use the syntax: print(\"{:.2f}\".format(3.1415926))"
   ]
  },
  {
   "cell_type": "markdown",
   "metadata": {},
   "source": [
    "<table class=\"wp-block-table code\" align=\"left\">\n",
    "    <tbody>\n",
    "        <tr>\n",
    "            <th width=\"16%\">Number</th>\n",
    "            <th width=\"16%\">Format</th>\n",
    "            <th width=\"16%\">Output</th>\n",
    "            <th>Description</th>\n",
    "        </tr>\n",
    "        <tr>\n",
    "            <td>3.1415926</td>\n",
    "            <td>{:.2f}</td>\n",
    "            <td>3.14</td>\n",
    "            <td>Format float 2 decimal places</td>\n",
    "        </tr>\n",
    "        <tr>\n",
    "            <td>3.1415926</td>\n",
    "            <td>{:+.2f}</td>\n",
    "            <td>+3.14</td>\n",
    "            <td>Format float 2 decimal places with sign</td>\n",
    "        </tr>\n",
    "        <tr>\n",
    "            <td>-1</td>\n",
    "            <td>{:+.2f}</td>\n",
    "            <td>-1.00</td>\n",
    "            <td>Format float 2 decimal places with sign</td>\n",
    "        </tr>\n",
    "        <tr>\n",
    "            <td>2.71828</td>\n",
    "            <td>{:.0f}</td>\n",
    "            <td>3</td>\n",
    "            <td>Format float with no decimal places</td>\n",
    "        </tr>\n",
    "        <tr>\n",
    "            <td>5</td>\n",
    "            <td>{:0&gt;2d}</td>\n",
    "            <td>05</td>\n",
    "            <td>Pad number with zeros (left padding, width 2)</td>\n",
    "        </tr>\n",
    "        <tr>\n",
    "            <td>5</td>\n",
    "            <td>{:x&lt;4d}</td>\n",
    "            <td>5xxx</td>\n",
    "            <td>Pad number with x’s (right padding, width 4)</td>\n",
    "        </tr>\n",
    "        <tr>\n",
    "            <td>10</td>\n",
    "            <td>{:x&lt;4d}</td>\n",
    "            <td>10xx</td>\n",
    "            <td>Pad number with x’s (right padding, width 4)</td>\n",
    "        </tr>\n",
    "        <tr>\n",
    "            <td>1000000</td>\n",
    "            <td>{:,}</td>\n",
    "            <td>1,000,000</td>\n",
    "            <td>Number format with comma separator</td>\n",
    "        </tr>\n",
    "        <tr>\n",
    "            <td>0.25</td>\n",
    "            <td>{:.2%}</td>\n",
    "            <td>25.00%</td>\n",
    "            <td>Format percentage</td>\n",
    "        </tr>\n",
    "        <tr>\n",
    "            <td>1000000000</td>\n",
    "            <td>{:.2e}</td>\n",
    "            <td>1.00e+09</td>\n",
    "            <td>Exponent notation</td>\n",
    "        </tr>\n",
    "        <tr>\n",
    "            <td>13</td>\n",
    "            <td>{:10d}</td>\n",
    "            <td>&nbsp;&nbsp;&nbsp;&nbsp;&nbsp;&nbsp;&nbsp;&nbsp;13</td>\n",
    "            <td>Right aligned (default, width 10)</td>\n",
    "        </tr>\n",
    "        <tr>\n",
    "            <td>13</td>\n",
    "            <td>{:&lt;10d}</td>\n",
    "            <td>13</td>\n",
    "            <td>Left aligned (width 10)</td>\n",
    "        </tr>\n",
    "        <tr>\n",
    "            <td>13</td>\n",
    "            <td>{:^10d}</td>\n",
    "            <td>&nbsp;&nbsp;&nbsp;&nbsp;13</td>\n",
    "            <td>Center aligned (width 10)</td>\n",
    "        </tr>\n",
    "    </tbody>\n",
    "</table>"
   ]
  },
  {
   "cell_type": "code",
   "execution_count": null,
   "metadata": {},
   "outputs": [],
   "source": [
    "# Examples of number formatting with str.format()\n",
    "print(\"{:.2f}\".format(3.1415926))\n",
    "\n",
    "print(\"{:.2%}\".format(0.25))\n",
    "\n",
    "print(\"{:0>8d}\".format(42))\n",
    "\n",
    "print(\"{:,}\".format(1000000000))\n",
    "\n",
    "print(\"{:.2e}\".format(1000000000))"
   ]
  },
  {
   "cell_type": "markdown",
   "metadata": {},
   "source": [
    "## f-strings"
   ]
  },
  {
   "cell_type": "code",
   "execution_count": null,
   "metadata": {},
   "outputs": [],
   "source": [
    "# Example (1):\n",
    "name = \"Eric\"\n",
    "age = 74\n",
    "print(f\"Hello, {name}. You are {age}.\")\n",
    "\n",
    "# Example (2):\n",
    "print(F\"Hello, {name}. You are {age}.\")\n",
    "\n",
    "# Example (3):\n",
    "print(f\"The result is: {15 * 15 / 10}\")\n",
    "\n",
    "# Example (4):\n",
    "print(f\"{name.lower()} is funny.\")\n",
    "\n",
    "# Example 4:\n",
    "name = \"Eric\"\n",
    "profession = \"comedian\"\n",
    "affiliation = \"Monty Python\"\n",
    "message = (f\"Hi {name}. \"\n",
    "           f\"You are a {profession}. \"\n",
    "           f\"You were in {affiliation}.\")\n",
    "print(message)"
   ]
  },
  {
   "cell_type": "markdown",
   "metadata": {},
   "source": [
    "#### Floating point values have the f suffix. We can also specify the precision: the number of decimal places. The precision is a value that goes right after the dot character."
   ]
  },
  {
   "cell_type": "code",
   "execution_count": null,
   "metadata": {},
   "outputs": [],
   "source": [
    "# Format floats\n",
    "pi = 3.1415926535897932384626433832795028841971693993751058209749445923078164062\n",
    "\n",
    "# No specified format\n",
    "print(f'{pi}')\n",
    "\n",
    "# Zero decimal places\n",
    "print(f'{pi:.0f}')\n",
    "\n",
    "# Eight decimal places\n",
    "print(f'{pi:.8f}')\n",
    "\n",
    "# Two decimal places\n",
    "print(f'{pi*10000:.2f}')"
   ]
  },
  {
   "cell_type": "markdown",
   "metadata": {},
   "source": [
    "#### The width specifier sets the width of the value. The value may be filled with spaces or other characters if the value is shorter than the specified width."
   ]
  },
  {
   "cell_type": "code",
   "execution_count": null,
   "metadata": {},
   "outputs": [],
   "source": [
    "# Format width\n",
    "for x in range(1, 11):\n",
    "    print(f'{x:2} | {x**2:3} | {x**5:6}')\n",
    "    \n",
    "# Format width and with and decimals\n",
    "print('\\n')\n",
    "for x in range(1, 11):\n",
    "    print(f'{x:5.2f} | {x**2:6.2f} | {x**5:9.2f}')"
   ]
  },
  {
   "cell_type": "markdown",
   "metadata": {},
   "source": [
    "#### By default, the strings are justified to the left. We can use the > character to justify the strings to the right. The > character follows the colon character."
   ]
  },
  {
   "cell_type": "code",
   "execution_count": null,
   "metadata": {},
   "outputs": [],
   "source": [
    "# Justify string\n",
    "s1 = '123'\n",
    "s2 = '1234'\n",
    "s3 = '12345'\n",
    "s4 = '123456'\n",
    "\n",
    "print(f'{s1:>10}')\n",
    "print(f'{s2:>10}')\n",
    "print(f'{s3:>10}')\n",
    "print(f'{s4:>10}')"
   ]
  },
  {
   "cell_type": "markdown",
   "metadata": {},
   "source": [
    "#### The example displays a formatted current datetime. The datetime format specifiers follow the : character."
   ]
  },
  {
   "cell_type": "code",
   "execution_count": null,
   "metadata": {},
   "outputs": [],
   "source": [
    "# Format_datetime\n",
    "import datetime\n",
    "\n",
    "now = datetime.datetime.now()\n",
    "print(f'{now:%Y-%m-%d %H:%M:%S}')"
   ]
  },
  {
   "cell_type": "markdown",
   "metadata": {},
   "source": [
    "#### Numbers can have various numeric notations, such as decadic or hexadecimal."
   ]
  },
  {
   "cell_type": "code",
   "execution_count": null,
   "metadata": {},
   "outputs": [],
   "source": [
    "# Numeric notations\n",
    "a = 300\n",
    "\n",
    "# hexadecimal\n",
    "print(f\"{a:x}\")\n",
    "\n",
    "# octal\n",
    "print(f\"{a:o}\")\n",
    "\n",
    "# scientific\n",
    "print(f\"{a:e}\")"
   ]
  },
  {
   "cell_type": "markdown",
   "metadata": {},
   "source": [
    "# Basic date types in Python"
   ]
  },
  {
   "cell_type": "code",
   "execution_count": null,
   "metadata": {},
   "outputs": [],
   "source": [
    "# Use the dir() function to get a list containing all objects a module.\n",
    "print(dir(datetime))"
   ]
  },
  {
   "cell_type": "markdown",
   "metadata": {},
   "source": [
    "### Date object to represent a date"
   ]
  },
  {
   "cell_type": "code",
   "execution_count": null,
   "metadata": {},
   "outputs": [],
   "source": [
    "from datetime import date\n",
    "\n",
    "# Date object to represent a date\n",
    "a = date(2022, 3, 7)\n",
    "print(a)\n",
    "\n",
    "# Get current date\n",
    "today = date.today()\n",
    "print(\"Current date =\", today)"
   ]
  },
  {
   "cell_type": "markdown",
   "metadata": {},
   "source": [
    "### Time object to represent a time"
   ]
  },
  {
   "cell_type": "code",
   "execution_count": null,
   "metadata": {},
   "outputs": [],
   "source": [
    "from datetime import time\n",
    "\n",
    "# time(hour = 0, minute = 0, second = 0)\n",
    "a = time()\n",
    "print(\"a =\", a)\n",
    "\n",
    "# time(hour, minute and second)\n",
    "c = time(hour = 11, minute = 34, second = 56)\n",
    "print(\"c =\", c)\n",
    "\n",
    "# time(hour, minute and second)\n",
    "b = time(11, 34, 56)\n",
    "print(\"b =\", b)"
   ]
  },
  {
   "cell_type": "markdown",
   "metadata": {},
   "source": [
    "### Datetime object to represent a datetime"
   ]
  },
  {
   "cell_type": "code",
   "execution_count": null,
   "metadata": {},
   "outputs": [],
   "source": [
    "from datetime import datetime\n",
    "\n",
    "# datetime(year, month, day)\n",
    "a = datetime(2022, 12, 31)\n",
    "print(a)\n",
    "\n",
    "# datetime(year, month, day, hour, minute, second)\n",
    "b = datetime(2022, 12, 31, 23, 59, 59)\n",
    "print(b)"
   ]
  },
  {
   "cell_type": "markdown",
   "metadata": {},
   "source": [
    "### Timedelta object"
   ]
  },
  {
   "cell_type": "code",
   "execution_count": null,
   "metadata": {},
   "outputs": [],
   "source": [
    "from datetime import datetime\n",
    "\n",
    "# Using date objects to calculate the time delta\n",
    "t1 = date(year = 1984, month = 12, day = 31)\n",
    "t2 = date(year = 2022, month = 12, day = 31)\n",
    "t3 = t2 - t1\n",
    "print(t3)\n",
    "print(\"type of t3 =\", type(t3))\n",
    "\n",
    "# Using datetime objects to calculate the time delta\n",
    "t4 = datetime(year = 1984, month = 12, day = 31, hour = 12)\n",
    "t5 = datetime(year = 2022, month = 12, day = 31, hour = 4)\n",
    "t6 = t5 - t4\n",
    "print(t6)\n",
    "print(\"type of t6 =\", type(t6))"
   ]
  },
  {
   "cell_type": "markdown",
   "metadata": {},
   "source": [
    "### Format datetime using strftime()"
   ]
  },
  {
   "cell_type": "code",
   "execution_count": null,
   "metadata": {},
   "outputs": [],
   "source": [
    "from datetime import datetime\n",
    "\n",
    "# Current date and time\n",
    "now = datetime.now()\n",
    "\n",
    "# H:M:S format\n",
    "t = now.strftime(\"%H:%M:%S\")\n",
    "print(\"time:\", t)\n",
    "\n",
    "# mm/dd/YY H:M:S format\n",
    "s1 = now.strftime(\"%m/%d/%Y, %H:%M:%S\")\n",
    "print(\"s1:\", s1)\n",
    "\n",
    "# dd/mm/YY H:M:S format\n",
    "s2 = now.strftime(\"%d/%m/%Y, %H:%M:%S\")\n",
    "print(\"s2:\", s2)"
   ]
  },
  {
   "cell_type": "markdown",
   "metadata": {},
   "source": [
    "### Handling time zone"
   ]
  },
  {
   "cell_type": "code",
   "execution_count": null,
   "metadata": {},
   "outputs": [],
   "source": [
    "from datetime import datetime\n",
    "\n",
    "# Local time\n",
    "local = datetime.now()\n",
    "print(\"Local:\", local.strftime(\"%m/%d/%Y, %H:%M:%S\"))\n",
    "\n",
    "# NY time\n",
    "tz_NY = pytz.timezone('America/New_York')\n",
    "datetime_NY = datetime.now(tz_NY)\n",
    "print(\"New York:\", datetime_NY.strftime(\"%m/%d/%Y, %H:%M:%S\"))"
   ]
  },
  {
   "attachments": {},
   "cell_type": "markdown",
   "metadata": {},
   "source": [
    "### Jupyter notebook --footer info-- (please always provide this at the end of each notebook)"
   ]
  },
  {
   "cell_type": "code",
   "execution_count": null,
   "metadata": {},
   "outputs": [],
   "source": [
    "import os\n",
    "import platform\n",
    "import socket\n",
    "from platform import python_version\n",
    "from datetime import datetime\n",
    "\n",
    "print('-----------------------------------')\n",
    "print(os.name.upper())\n",
    "print(platform.system(), '|', platform.release())\n",
    "print('Datetime:', datetime.now().strftime(\"%Y-%m-%d %H:%M:%S\"))\n",
    "print('Python Version:', python_version())\n",
    "print('-----------------------------------')"
   ]
  }
 ],
 "metadata": {
  "kernelspec": {
   "display_name": "Python 3",
   "language": "python",
   "name": "python3"
  },
  "language_info": {
   "codemirror_mode": {
    "name": "ipython",
    "version": 3
   },
   "file_extension": ".py",
   "mimetype": "text/x-python",
   "name": "python",
   "nbconvert_exporter": "python",
   "pygments_lexer": "ipython3",
   "version": "3.11.13"
  },
  "toc": {
   "base_numbering": 1,
   "nav_menu": {},
   "number_sections": true,
   "sideBar": true,
   "skip_h1_title": false,
   "title_cell": "Table of Contents",
   "title_sidebar": "Contents",
   "toc_cell": false,
   "toc_position": {},
   "toc_section_display": true,
   "toc_window_display": true
  }
 },
 "nbformat": 4,
 "nbformat_minor": 4
}
