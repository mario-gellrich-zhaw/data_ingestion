{
 "cells": [
  {
   "cell_type": "markdown",
   "metadata": {},
   "source": [
    "# Backtesting the 'buying-the-dip' Trading Strategy"
   ]
  },
  {
   "cell_type": "markdown",
   "metadata": {},
   "source": [
    "## Libraries and settings"
   ]
  },
  {
   "cell_type": "code",
   "execution_count": null,
   "metadata": {},
   "outputs": [],
   "source": [
    "# Libraries\n",
    "import os\n",
    "import numpy as np\n",
    "import pandas as pd\n",
    "import yfinance as yf\n",
    "from datetime import datetime\n",
    "import matplotlib.pyplot as plt\n",
    "\n",
    "# Settings\n",
    "import warnings\n",
    "warnings.filterwarnings(\"ignore\")\n",
    "\n",
    "# Current working directory\n",
    "print(f'Current working directory: {os.getcwd()}')"
   ]
  },
  {
   "cell_type": "markdown",
   "metadata": {},
   "source": [
    "## Historical Data iShares Core MSCI World UCITS ETF"
   ]
  },
  {
   "cell_type": "code",
   "execution_count": null,
   "metadata": {},
   "outputs": [],
   "source": [
    "# Get today's date\n",
    "today = datetime.today().strftime('%Y-%m-%d')\n",
    "\n",
    "# Load historical data iShares Core MSCI World UCITS ETF\n",
    "ticker = 'IWDA.AS'\n",
    "df = yf.download(ticker, \n",
    "                 start='2010-01-01', \n",
    "                 end=today, \n",
    "                 interval='1mo',\n",
    "                 multi_level_index=False,\n",
    "                 progress=False)\n",
    "\n",
    "\n",
    "# Check currency\n",
    "ticker = yf.Ticker(\"IWDA.AS\")\n",
    "print(f\"The currency used by yfinance is: {ticker.info['currency']}\")\n",
    "\n",
    "# Monthly return\n",
    "df['Monthly_Return'] = df['Close'].pct_change()\n",
    "df"
   ]
  },
  {
   "cell_type": "markdown",
   "metadata": {},
   "source": [
    "## Backtesting buying-the-dip versus fixed monthly investment Strategy"
   ]
  },
  {
   "cell_type": "code",
   "execution_count": null,
   "metadata": {},
   "outputs": [],
   "source": [
    "# Strategy 1: Invest a fixed amount every month\n",
    "fixed_investment = 1000\n",
    "df['Fixed Investment'] = fixed_investment\n",
    "df['Fixed Shares'] = df['Fixed Investment'] / df['Close']\n",
    "df['Fixed Total Shares'] = df['Fixed Shares'].cumsum()\n",
    "df['Fixed Portfolio Value'] = df['Fixed Total Shares'] * df['Close']\n",
    "\n",
    "# Strategy 2: Invest cumulative monthly savings after a drop of X%\n",
    "threshold = 0.05\n",
    "monthly_savings = 1000\n",
    "df['Trigger Investment'] = 0.0\n",
    "df['Trigger Shares'] = 0.0 \n",
    "savings = 0.0\n",
    "\n",
    "# Ensure that the index is a simple integer\n",
    "df = df.reset_index()\n",
    "\n",
    "for i in range(1, len(df)):\n",
    "    if threshold == 0.00:\n",
    "        # Invest fixed savings every month if the threshold is 0\n",
    "        df.loc[i, 'Trigger Investment'] = monthly_savings\n",
    "    else:\n",
    "        # Accumulate savings if the threshold is > 0\n",
    "        savings += monthly_savings\n",
    "        # Invest the accumulated savings if the price drops by at least threshold\n",
    "        if df.loc[i, 'Close'] <= df.loc[i-1, 'Close'] * (1 - threshold):\n",
    "            df.loc[i, 'Trigger Investment'] = savings\n",
    "            savings = 0\n",
    "\n",
    "    # Calculate the number of shares bought\n",
    "    df.loc[i, 'Trigger Shares'] = (\n",
    "        df.loc[i, 'Trigger Investment'] / df.loc[i, 'Close']\n",
    "    )\n",
    "\n",
    "# Calculate the total number of shares and the portfolio value\n",
    "df['Trigger Total Shares'] = df['Trigger Shares'].cumsum()\n",
    "df['Trigger Portfolio Value'] = df['Trigger Total Shares'] * df['Close']\n",
    "\n",
    "# Output the final portfolio values\n",
    "print(f\"Final portfolio value with fixed monthly investment: {df['Fixed Portfolio Value'].iloc[-1]:.2f} EUR\")\n",
    "print(f\"Final portfolio value with investment after a drop: {df['Trigger Portfolio Value'].iloc[-1]:.2f} EUR\")\n",
    "\n",
    "# Difference in portfolio values\n",
    "diff = df['Trigger Portfolio Value'].iloc[-1] - df['Fixed Portfolio Value'].iloc[-1]\n",
    "print(f\"\\nDifference in portfolio values: {diff:.2f} EUR\")"
   ]
  },
  {
   "cell_type": "markdown",
   "metadata": {},
   "source": [
    "## Plot the results"
   ]
  },
  {
   "cell_type": "code",
   "execution_count": null,
   "metadata": {},
   "outputs": [],
   "source": [
    "# Plot the results\n",
    "plt.figure(figsize=(8, 5))\n",
    "plt.plot(df['Date'], df['Fixed Portfolio Value'], label='Fixed monthly investment')\n",
    "plt.plot(df['Date'], df['Trigger Portfolio Value'], label='Investment after drop')\n",
    "plt.title('Backtesting of Investment Strategies')\n",
    "plt.xlabel('Date')\n",
    "plt.ylabel('Portfolio value')\n",
    "plt.legend()\n",
    "plt.grid(True)\n",
    "plt.show()"
   ]
  },
  {
   "cell_type": "markdown",
   "metadata": {},
   "source": [
    "### Jupyter notebook --footer info-- (please always provide this at the end of each notebook)"
   ]
  },
  {
   "cell_type": "code",
   "execution_count": null,
   "metadata": {},
   "outputs": [],
   "source": [
    "import os\n",
    "import platform\n",
    "import socket\n",
    "from platform import python_version\n",
    "from datetime import datetime\n",
    "\n",
    "print('-----------------------------------')\n",
    "print(os.name.upper())\n",
    "print(platform.system(), '|', platform.release())\n",
    "print('Datetime:', datetime.now().strftime(\"%Y-%m-%d %H:%M:%S\"))\n",
    "print('Python Version:', python_version())\n",
    "print('-----------------------------------')"
   ]
  }
 ],
 "metadata": {
  "kernelspec": {
   "display_name": "Python 3",
   "language": "python",
   "name": "python3"
  },
  "language_info": {
   "codemirror_mode": {
    "name": "ipython",
    "version": 3
   },
   "file_extension": ".py",
   "mimetype": "text/x-python",
   "name": "python",
   "nbconvert_exporter": "python",
   "pygments_lexer": "ipython3",
   "version": "3.11.13"
  }
 },
 "nbformat": 4,
 "nbformat_minor": 2
}
