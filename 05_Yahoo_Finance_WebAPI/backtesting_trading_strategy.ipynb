{
 "cells": [
  {
   "cell_type": "markdown",
   "metadata": {},
   "source": [
    "# Backtesting the 'buying-the-dip' Trading Strategy"
   ]
  },
  {
   "cell_type": "markdown",
   "metadata": {},
   "source": [
    "## Libraries and settings"
   ]
  },
  {
   "cell_type": "code",
   "execution_count": 1,
   "metadata": {},
   "outputs": [
    {
     "name": "stdout",
     "output_type": "stream",
     "text": [
      "Current working directory: /workspaces/data_ingestion/05_Yahoo_Finance_WebAPI\n"
     ]
    }
   ],
   "source": [
    "# Libraries\n",
    "import os\n",
    "import numpy as np\n",
    "import pandas as pd\n",
    "import yfinance as yf\n",
    "from datetime import datetime\n",
    "import matplotlib.pyplot as plt\n",
    "\n",
    "# Settings\n",
    "import warnings\n",
    "warnings.filterwarnings(\"ignore\")\n",
    "\n",
    "# Current working directory\n",
    "print(f'Current working directory: {os.getcwd()}')"
   ]
  },
  {
   "cell_type": "markdown",
   "metadata": {},
   "source": [
    "## Historical Data iShares Core MSCI World UCITS ETF"
   ]
  },
  {
   "cell_type": "code",
   "execution_count": 2,
   "metadata": {},
   "outputs": [
    {
     "name": "stdout",
     "output_type": "stream",
     "text": [
      "The currency used by yfinance is: EUR\n"
     ]
    },
    {
     "data": {
      "text/html": [
       "<div>\n",
       "<style scoped>\n",
       "    .dataframe tbody tr th:only-of-type {\n",
       "        vertical-align: middle;\n",
       "    }\n",
       "\n",
       "    .dataframe tbody tr th {\n",
       "        vertical-align: top;\n",
       "    }\n",
       "\n",
       "    .dataframe thead th {\n",
       "        text-align: right;\n",
       "    }\n",
       "</style>\n",
       "<table border=\"1\" class=\"dataframe\">\n",
       "  <thead>\n",
       "    <tr style=\"text-align: right;\">\n",
       "      <th></th>\n",
       "      <th>Close</th>\n",
       "      <th>High</th>\n",
       "      <th>Low</th>\n",
       "      <th>Open</th>\n",
       "      <th>Volume</th>\n",
       "      <th>Monthly_Return</th>\n",
       "    </tr>\n",
       "    <tr>\n",
       "      <th>Date</th>\n",
       "      <th></th>\n",
       "      <th></th>\n",
       "      <th></th>\n",
       "      <th></th>\n",
       "      <th></th>\n",
       "      <th></th>\n",
       "    </tr>\n",
       "  </thead>\n",
       "  <tbody>\n",
       "    <tr>\n",
       "      <th>2010-01-01</th>\n",
       "      <td>17.940001</td>\n",
       "      <td>18.600000</td>\n",
       "      <td>17.770000</td>\n",
       "      <td>18.070000</td>\n",
       "      <td>14303</td>\n",
       "      <td>NaN</td>\n",
       "    </tr>\n",
       "    <tr>\n",
       "      <th>2010-02-01</th>\n",
       "      <td>18.379999</td>\n",
       "      <td>18.620001</td>\n",
       "      <td>17.139999</td>\n",
       "      <td>17.820000</td>\n",
       "      <td>86540</td>\n",
       "      <td>0.024526</td>\n",
       "    </tr>\n",
       "    <tr>\n",
       "      <th>2010-03-01</th>\n",
       "      <td>19.660000</td>\n",
       "      <td>19.930000</td>\n",
       "      <td>18.549999</td>\n",
       "      <td>18.559999</td>\n",
       "      <td>114226</td>\n",
       "      <td>0.069641</td>\n",
       "    </tr>\n",
       "    <tr>\n",
       "      <th>2010-04-01</th>\n",
       "      <td>20.090000</td>\n",
       "      <td>20.469999</td>\n",
       "      <td>19.770000</td>\n",
       "      <td>19.770000</td>\n",
       "      <td>7314</td>\n",
       "      <td>0.021872</td>\n",
       "    </tr>\n",
       "    <tr>\n",
       "      <th>2010-05-01</th>\n",
       "      <td>19.549999</td>\n",
       "      <td>20.415001</td>\n",
       "      <td>18.580000</td>\n",
       "      <td>20.070000</td>\n",
       "      <td>35831</td>\n",
       "      <td>-0.026879</td>\n",
       "    </tr>\n",
       "    <tr>\n",
       "      <th>...</th>\n",
       "      <td>...</td>\n",
       "      <td>...</td>\n",
       "      <td>...</td>\n",
       "      <td>...</td>\n",
       "      <td>...</td>\n",
       "      <td>...</td>\n",
       "    </tr>\n",
       "    <tr>\n",
       "      <th>2025-04-01</th>\n",
       "      <td>93.330002</td>\n",
       "      <td>98.550003</td>\n",
       "      <td>82.910004</td>\n",
       "      <td>98.000000</td>\n",
       "      <td>6419454</td>\n",
       "      <td>-0.039073</td>\n",
       "    </tr>\n",
       "    <tr>\n",
       "      <th>2025-05-01</th>\n",
       "      <td>99.275002</td>\n",
       "      <td>101.300003</td>\n",
       "      <td>93.330002</td>\n",
       "      <td>93.330002</td>\n",
       "      <td>2802259</td>\n",
       "      <td>0.063699</td>\n",
       "    </tr>\n",
       "    <tr>\n",
       "      <th>2025-06-01</th>\n",
       "      <td>100.144997</td>\n",
       "      <td>100.910004</td>\n",
       "      <td>98.035004</td>\n",
       "      <td>98.794998</td>\n",
       "      <td>1954341</td>\n",
       "      <td>0.008763</td>\n",
       "    </tr>\n",
       "    <tr>\n",
       "      <th>2025-07-01</th>\n",
       "      <td>104.934998</td>\n",
       "      <td>105.870003</td>\n",
       "      <td>99.519997</td>\n",
       "      <td>100.190002</td>\n",
       "      <td>1847123</td>\n",
       "      <td>0.047831</td>\n",
       "    </tr>\n",
       "    <tr>\n",
       "      <th>2025-08-01</th>\n",
       "      <td>105.105003</td>\n",
       "      <td>105.309998</td>\n",
       "      <td>101.300003</td>\n",
       "      <td>104.019997</td>\n",
       "      <td>1364603</td>\n",
       "      <td>0.001620</td>\n",
       "    </tr>\n",
       "  </tbody>\n",
       "</table>\n",
       "<p>188 rows × 6 columns</p>\n",
       "</div>"
      ],
      "text/plain": [
       "                 Close        High         Low        Open   Volume  \\\n",
       "Date                                                                  \n",
       "2010-01-01   17.940001   18.600000   17.770000   18.070000    14303   \n",
       "2010-02-01   18.379999   18.620001   17.139999   17.820000    86540   \n",
       "2010-03-01   19.660000   19.930000   18.549999   18.559999   114226   \n",
       "2010-04-01   20.090000   20.469999   19.770000   19.770000     7314   \n",
       "2010-05-01   19.549999   20.415001   18.580000   20.070000    35831   \n",
       "...                ...         ...         ...         ...      ...   \n",
       "2025-04-01   93.330002   98.550003   82.910004   98.000000  6419454   \n",
       "2025-05-01   99.275002  101.300003   93.330002   93.330002  2802259   \n",
       "2025-06-01  100.144997  100.910004   98.035004   98.794998  1954341   \n",
       "2025-07-01  104.934998  105.870003   99.519997  100.190002  1847123   \n",
       "2025-08-01  105.105003  105.309998  101.300003  104.019997  1364603   \n",
       "\n",
       "            Monthly_Return  \n",
       "Date                        \n",
       "2010-01-01             NaN  \n",
       "2010-02-01        0.024526  \n",
       "2010-03-01        0.069641  \n",
       "2010-04-01        0.021872  \n",
       "2010-05-01       -0.026879  \n",
       "...                    ...  \n",
       "2025-04-01       -0.039073  \n",
       "2025-05-01        0.063699  \n",
       "2025-06-01        0.008763  \n",
       "2025-07-01        0.047831  \n",
       "2025-08-01        0.001620  \n",
       "\n",
       "[188 rows x 6 columns]"
      ]
     },
     "execution_count": 2,
     "metadata": {},
     "output_type": "execute_result"
    }
   ],
   "source": [
    "# Get today's date\n",
    "today = datetime.today().strftime('%Y-%m-%d')\n",
    "\n",
    "# Load historical data iShares Core MSCI World UCITS ETF\n",
    "ticker = 'IWDA.AS'\n",
    "df = yf.download(ticker, \n",
    "                 start='2010-01-01', \n",
    "                 end=today, \n",
    "                 interval='1mo',\n",
    "                 multi_level_index=False,\n",
    "                 progress=False)\n",
    "\n",
    "\n",
    "# Check currency\n",
    "ticker = yf.Ticker(\"IWDA.AS\")\n",
    "print(f\"The currency used by yfinance is: {ticker.info['currency']}\")\n",
    "\n",
    "# Monthly return\n",
    "df['Monthly_Return'] = df['Close'].pct_change()\n",
    "df"
   ]
  },
  {
   "cell_type": "markdown",
   "metadata": {},
   "source": [
    "## Backtesting buying-the-dip versus fixed monthly investment Strategy"
   ]
  },
  {
   "cell_type": "code",
   "execution_count": 3,
   "metadata": {},
   "outputs": [
    {
     "name": "stdout",
     "output_type": "stream",
     "text": [
      "Final portfolio value with fixed monthly investment: 515018.79 EUR\n",
      "Final portfolio value with investment after a drop: 451567.40 EUR\n",
      "\n",
      "Difference in portfolio values: -63451.39 EUR\n"
     ]
    }
   ],
   "source": [
    "# Strategy 1: Invest a fixed amount every month\n",
    "fixed_investment = 1000\n",
    "df['Fixed Investment'] = fixed_investment\n",
    "df['Fixed Shares'] = df['Fixed Investment'] / df['Close']\n",
    "df['Fixed Total Shares'] = df['Fixed Shares'].cumsum()\n",
    "df['Fixed Portfolio Value'] = df['Fixed Total Shares'] * df['Close']\n",
    "\n",
    "# Strategy 2: Invest cumulative monthly savings after a drop of X%\n",
    "threshold = 0.05\n",
    "monthly_savings = 1000\n",
    "df['Trigger Investment'] = 0.0\n",
    "df['Trigger Shares'] = 0.0 \n",
    "savings = 0.0\n",
    "\n",
    "# Ensure that the index is a simple integer\n",
    "df = df.reset_index()\n",
    "\n",
    "for i in range(1, len(df)):\n",
    "    if threshold == 0.00:\n",
    "        # Invest fixed savings every month if the threshold is 0\n",
    "        df.loc[i, 'Trigger Investment'] = monthly_savings\n",
    "    else:\n",
    "        # Accumulate savings if the threshold is > 0\n",
    "        savings += monthly_savings\n",
    "        # Invest the accumulated savings if the price drops by at least threshold\n",
    "        if df.loc[i, 'Close'] <= df.loc[i-1, 'Close'] * (1 - threshold):\n",
    "            df.loc[i, 'Trigger Investment'] = savings\n",
    "            savings = 0\n",
    "\n",
    "    # Calculate the number of shares bought\n",
    "    df.loc[i, 'Trigger Shares'] = (\n",
    "        df.loc[i, 'Trigger Investment'] / df.loc[i, 'Close']\n",
    "    )\n",
    "\n",
    "# Calculate the total number of shares and the portfolio value\n",
    "df['Trigger Total Shares'] = df['Trigger Shares'].cumsum()\n",
    "df['Trigger Portfolio Value'] = df['Trigger Total Shares'] * df['Close']\n",
    "\n",
    "# Output the final portfolio values\n",
    "print(f\"Final portfolio value with fixed monthly investment: {df['Fixed Portfolio Value'].iloc[-1]:.2f} EUR\")\n",
    "print(f\"Final portfolio value with investment after a drop: {df['Trigger Portfolio Value'].iloc[-1]:.2f} EUR\")\n",
    "\n",
    "# Difference in portfolio values\n",
    "diff = df['Trigger Portfolio Value'].iloc[-1] - df['Fixed Portfolio Value'].iloc[-1]\n",
    "print(f\"\\nDifference in portfolio values: {diff:.2f} EUR\")"
   ]
  },
  {
   "cell_type": "markdown",
   "metadata": {},
   "source": [
    "## Plot the results"
   ]
  },
  {
   "cell_type": "code",
   "execution_count": 4,
   "metadata": {},
   "outputs": [
    {
     "data": {
      "image/png": "[encoded data removed]",
      "text/plain": [
       "<Figure size 800x500 with 1 Axes>"
      ]
     },
     "metadata": {},
     "output_type": "display_data"
    }
   ],
   "source": [
    "# Plot the results\n",
    "plt.figure(figsize=(8, 5))\n",
    "plt.plot(df['Date'], df['Fixed Portfolio Value'], label='Fixed monthly investment')\n",
    "plt.plot(df['Date'], df['Trigger Portfolio Value'], label='Investment after drop')\n",
    "plt.title('Backtesting of Investment Strategies')\n",
    "plt.xlabel('Date')\n",
    "plt.ylabel('Portfolio value')\n",
    "plt.legend()\n",
    "plt.grid(True)\n",
    "plt.show()"
   ]
  },
  {
   "cell_type": "markdown",
   "metadata": {},
   "source": [
    "### Jupyter notebook --footer info-- (please always provide this at the end of each notebook)"
   ]
  },
  {
   "cell_type": "code",
   "execution_count": 5,
   "metadata": {},
   "outputs": [
    {
     "name": "stdout",
     "output_type": "stream",
     "text": [
      "-----------------------------------\n",
      "POSIX\n",
      "Linux | 6.8.0-1030-azure\n",
      "Datetime: 2025-08-25 15:45:47\n",
      "Python Version: 3.11.13\n",
      "-----------------------------------\n"
     ]
    }
   ],
   "source": [
    "import os\n",
    "import platform\n",
    "import socket\n",
    "from platform import python_version\n",
    "from datetime import datetime\n",
    "\n",
    "print('-----------------------------------')\n",
    "print(os.name.upper())\n",
    "print(platform.system(), '|', platform.release())\n",
    "print('Datetime:', datetime.now().strftime(\"%Y-%m-%d %H:%M:%S\"))\n",
    "print('Python Version:', python_version())\n",
    "print('-----------------------------------')"
   ]
  }
 ],
 "metadata": {
  "kernelspec": {
   "display_name": "Python 3",
   "language": "python",
   "name": "python3"
  },
  "language_info": {
   "codemirror_mode": {
    "name": "ipython",
    "version": 3
   },
   "file_extension": ".py",
   "mimetype": "text/x-python",
   "name": "python",
   "nbconvert_exporter": "python",
   "pygments_lexer": "ipython3",
   "version": "3.11.13"
  }
 },
 "nbformat": 4,
 "nbformat_minor": 2
}
